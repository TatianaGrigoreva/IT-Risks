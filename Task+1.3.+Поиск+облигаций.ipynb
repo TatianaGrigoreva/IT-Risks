{
 "cells": [
  {
   "cell_type": "markdown",
   "metadata": {},
   "source": [
    "# Task 1.3. Запрос на поиск облигаций\n",
    "Необходимо последовательно вводить SQL-запросы"
   ]
  },
  {
   "cell_type": "markdown",
   "metadata": {},
   "source": [
    "Создадим отдельную таблицу с данными о торгах с сортировкой по времени и ID, необходимыми для выполнения задания "
   ]
  },
  {
   "cell_type": "code",
   "execution_count": null,
   "metadata": {
    "collapsed": true
   },
   "outputs": [],
   "source": [
    "ALTER TABLE [risks].[dbo].[base_prices] ALTER COLUMN [TIME] INT;\n",
    "SELECT * INTO [risks].[dbo].[task.1.3] FROM [risks].[dbo].[base_prices]\t\n",
    "ORDER BY [TIME];\n",
    "SELECT ID, [TIME], ISIN, ASK, LAG(ASK,1,0) OVER (ORDER BY ID) AS ASK_prev, LAG(ID,1,0) OVER (ORDER BY ID) AS ID_prev\n",
    "INTO [risks].[dbo].[task.1.3_1] FROM [risks].[dbo].[task.1.3]\n",
    "ORDER BY [ID];\n",
    "GO"
   ]
  },
  {
   "cell_type": "markdown",
   "metadata": {},
   "source": [
    "Удалим данные без нужной нам информации"
   ]
  },
  {
   "cell_type": "code",
   "execution_count": null,
   "metadata": {
    "collapsed": true
   },
   "outputs": [],
   "source": [
    "DELETE FROM [risks].[dbo].[task.1.3_1] WHERE ID != ID_prev AND ASK != ' ';\n",
    "GO"
   ]
  },
  {
   "cell_type": "markdown",
   "metadata": {},
   "source": [
    "Создадим две вспомогательные таблицы, где для каждой ценной бумаги будет информация, сколько дней не было торгов, и по скольким есть"
   ]
  },
  {
   "cell_type": "code",
   "execution_count": null,
   "metadata": {
    "collapsed": true
   },
   "outputs": [],
   "source": [
    "SELECT ID, COUNT([TIME]) AS n_days \n",
    "INTO [risks].[dbo].[task.1.3_2] FROM [risks].[dbo].[task.1.3_1] \n",
    "WHERE ASK=ASK_prev OR ASK=' ' GROUP BY ID;\n",
    "SELECT ID, COUNT([TIME]) AS N\n",
    "INTO [risks].[dbo].[task.1.3_3] FROM [risks].[dbo].[task.1.3_1] \n",
    "GROUP BY ID;\n",
    "GO"
   ]
  },
  {
   "cell_type": "markdown",
   "metadata": {},
   "source": [
    "Запустим скрипт, создающий таблицу с ценными бумагами, по которым было не более 10% дней без торгов"
   ]
  },
  {
   "cell_type": "code",
   "execution_count": null,
   "metadata": {
    "collapsed": true
   },
   "outputs": [],
   "source": [
    "SELECT [risks].[dbo].[task.1.3_3].[ID],n_days, N, n_days*100/N AS share\n",
    "INTO [risks].[dbo].[task.1.3_4]\n",
    "FROM [risks].[dbo].[task.1.3_2] RIGHT JOIN [risks].[dbo].[task.1.3_3]\n",
    "ON [risks].[dbo].[task.1.3_3].[ID]= [risks].[dbo].[task.1.3_2].[ID]\n",
    "WHERE [risks].[dbo].[task.1.3_2].[n_days] IS NULL OR n_days*100/N <= 10; \n",
    "SELECT [risks].[dbo].[task.1.3_4].[ID], Exchange, CFIName, EmitentName\n",
    "INTO [risks].[dbo].[task.1.3_fin]\n",
    "FROM [risks].[dbo].[task.1.3_4] INNER JOIN [risks].[dbo].[instrs]\n",
    "ON [risks].[dbo].[task.1.3_4].[ID]= [risks].[dbo].[instrs].[ID]\n",
    "WHERE Exchange = 'Московская Биржа / МБ - Основной' \n",
    "AND (CFIName = 'Облигации / Сектор / Корпоративные' OR CFIName = 'Облигации / Сектор / Региональные');  \n",
    "GO"
   ]
  },
  {
   "attachments": {},
   "cell_type": "markdown",
   "metadata": {},
   "source": [
    "Получили 11 облигаций"
   ]
  },
  {
   "cell_type": "code",
   "execution_count": null,
   "metadata": {
    "collapsed": true
   },
   "outputs": [],
   "source": [
    "#первые 3 облигации\n",
    "\n",
    "SELECT TOP(3) EmitentName\n",
    "FROM [risks].[dbo].[task.1.3_fin]\n",
    "GROUP BY EmitentName;\n",
    "GO"
   ]
  },
  {
   "cell_type": "code",
   "execution_count": null,
   "metadata": {
    "collapsed": true
   },
   "outputs": [],
   "source": [
    "Результат:\n",
    "Аптечная сеть 36.6\n",
    "ПГК, АО\n",
    "РЖД-Развитие вокзалов"
   ]
  }
 ],
 "metadata": {
  "kernelspec": {
   "display_name": "Python 3",
   "language": "python",
   "name": "python3"
  },
  "language_info": {
   "codemirror_mode": {
    "name": "ipython",
    "version": 3
   },
   "file_extension": ".py",
   "mimetype": "text/x-python",
   "name": "python",
   "nbconvert_exporter": "python",
   "pygments_lexer": "ipython3",
   "version": "3.6.2"
  }
 },
 "nbformat": 4,
 "nbformat_minor": 2
}
