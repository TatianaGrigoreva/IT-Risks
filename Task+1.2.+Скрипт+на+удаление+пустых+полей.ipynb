{
 "cells": [
  {
   "cell_type": "markdown",
   "metadata": {},
   "source": [
    "# Task 1.2. Запрос на определение пустых полей.\n",
    "Скрипты запускаются непосредсвенно в MS SQL Server"
   ]
  },
  {
   "cell_type": "code",
   "execution_count": null,
   "metadata": {
    "collapsed": true
   },
   "outputs": [],
   "source": [
    "#Запрос считает долю в процентах пустых строк в выбранном столбце таблицы bond_description ProgFinToolID. На этом этапе можно также подключить Python и создать цикл для всех полей.\n",
    "SELECT COUNT(*)*100/(SELECT COUNT(*) FROM [risks].[dbo].[bond_discription]) FROM [risks].[dbo].[bond_discription] WHERE [ProgFinToolID]=' ';\n",
    "GO\n",
    "\n",
    "#результат 92%. столбец необходимо убрать, значения непустых строк нужно сохранить в отдельную таблицу с ключом, чтобы не потерять данные \n",
    "SELECT [ISIN, RegCode, NRDCode], [ProgFinToolID] INTO [risks].[dbo].[bond_discription_ProgFinToolID] FROM [risks].[dbo].[bond_discription] WHERE [ProgFinToolID] !=' ';\n",
    "GO\n",
    "\n",
    "#Результат: перенесено 230 строк\n",
    "#Удалим поле в исходной таблице скриптом\n",
    "ALTER TABLE [risks].[dbo].[bond_discription] DROP COLUMN [ProgFinToolID];\n",
    "GO\n",
    "\n",
    "#далее вручную можно перебрать другие поля и удалить пустые"
   ]
  }
 ],
 "metadata": {
  "kernelspec": {
   "display_name": "Python 3",
   "language": "python",
   "name": "python3"
  },
  "language_info": {
   "codemirror_mode": {
    "name": "ipython",
    "version": 3
   },
   "file_extension": ".py",
   "mimetype": "text/x-python",
   "name": "python",
   "nbconvert_exporter": "python",
   "pygments_lexer": "ipython3",
   "version": "3.6.2"
  }
 },
 "nbformat": 4,
 "nbformat_minor": 2
}
